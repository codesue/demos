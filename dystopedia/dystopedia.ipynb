{
  "cells": [
    {
      "attachments": {},
      "cell_type": "markdown",
      "metadata": {
        "id": "d2OWxGMo1WZk"
      },
      "source": [
        "# Dystopedia\n",
        "\n",
        "I once read [a Tweet](https://twitter.com/lbcyber/status/1115015586243862528) that said,\n",
        "“you can make any Wikipedia article dystopian by changing it to the past tense.”\n",
        "Dystopian Wikipedia sounded <s>fun</s> fitting for our quasi-dystopian times,\n",
        "so I built Dystopedia as a proof-of-concept.\n",
        "\n",
        "Try the demo on [🤗 Spaces](https://huggingface.co/spaces/codesue/dystopedia),\n",
        "and learn how I made it on [codesue.com](https://codesue.com/posts/dystopedia.)."
      ]
    },
    {
      "attachments": {},
      "cell_type": "markdown",
      "metadata": {},
      "source": [
        "Fetch the first paragraph (~7 sentences) of the Wikipedia article for \"water\"."
      ]
    },
    {
      "cell_type": "code",
      "execution_count": null,
      "metadata": {},
      "outputs": [],
      "source": [
        "import wikipedia\n",
        "\n",
        "\n",
        "result = wikipedia.search(\"water\", results=1)\n",
        "summary = wikipedia.summary(\n",
        "  result,\n",
        "  sentences=7,\n",
        "  auto_suggest=False,\n",
        "  redirect=True\n",
        ")\n",
        "\n",
        "print(summary)"
      ]
    },
    {
      "attachments": {},
      "cell_type": "markdown",
      "metadata": {},
      "source": [
        "Convert present tense verbs to past tense."
      ]
    },
    {
      "cell_type": "code",
      "execution_count": null,
      "metadata": {},
      "outputs": [],
      "source": [
        "import lemminflect\n",
        "import spacy\n",
        "\n",
        "\n",
        "nlp = spacy.load(\"en_core_web_lg\")\n",
        "\n",
        "def make_past_tense(token):\n",
        "  if token.tag_ in (\"VBP\", \"VBZ\"):\n",
        "    return f'{token._.inflect(\"VBD\")} '\n",
        "  return token.text_with_ws\n",
        "\n",
        "doc = nlp(summary)\n",
        "dystopian_summary = \"\".join(\n",
        "  [make_past_tense(token) for token in doc]\n",
        ")\n",
        "\n",
        "print(dystopian_summary)"
      ]
    },
    {
      "attachments": {},
      "cell_type": "markdown",
      "metadata": {},
      "source": [
        "Create a function to determine whether a given text is positive."
      ]
    },
    {
      "cell_type": "code",
      "execution_count": null,
      "metadata": {},
      "outputs": [],
      "source": [
        "from transformers import pipeline\n",
        "\n",
        "\n",
        "sentiment_analyzer = pipeline(\n",
        "  \"sentiment-analysis\",\n",
        "  model=\"distilbert-base-uncased-finetuned-sst-2-english\",\n",
        "  revision=\"af0f99b\"\n",
        ")\n",
        "\n",
        "def is_positive(text):\n",
        "  return sentiment_analyzer(text)[0][\"label\"] == \"POSITIVE\"\n",
        "\n",
        "for word in (\"good\", \"bad\"):\n",
        "  if is_positive(word):\n",
        "    print(f'\"{word}\" was labelled positive')\n",
        "  else:\n",
        "    print(f'\"{word}\" was not labelled positive')"
      ]
    },
    {
      "attachments": {},
      "cell_type": "markdown",
      "metadata": {},
      "source": [
        "Classsify the summary for water."
      ]
    },
    {
      "cell_type": "code",
      "execution_count": null,
      "metadata": {},
      "outputs": [],
      "source": [
        "print(is_positive(summary))"
      ]
    },
    {
      "attachments": {},
      "cell_type": "markdown",
      "metadata": {},
      "source": [
        "Classify the first sentence of the summary."
      ]
    },
    {
      "cell_type": "code",
      "execution_count": null,
      "metadata": {},
      "outputs": [],
      "source": [
        "sentences = list(doc.sents)\n",
        "\n",
        "print(sentences[0])\n",
        "print(is_positive(sentences[0].text))"
      ]
    },
    {
      "attachments": {},
      "cell_type": "markdown",
      "metadata": {},
      "source": [
        "Classify the second sentence."
      ]
    },
    {
      "cell_type": "code",
      "execution_count": null,
      "metadata": {},
      "outputs": [],
      "source": [
        "print(sentences[1])\n",
        "print(is_positive(sentences[1].text))"
      ]
    },
    {
      "attachments": {},
      "cell_type": "markdown",
      "metadata": {},
      "source": [
        "Classify the term \"water\" on its own."
      ]
    },
    {
      "cell_type": "code",
      "execution_count": null,
      "metadata": {},
      "outputs": [],
      "source": [
        "print(is_positive(\"water\"))"
      ]
    },
    {
      "attachments": {},
      "cell_type": "markdown",
      "metadata": {},
      "source": [
        "Create a function that converts present tense verbs to the past tense when given a positive term."
      ]
    },
    {
      "cell_type": "code",
      "execution_count": null,
      "metadata": {},
      "outputs": [],
      "source": [
        "def make_dystopian(term, text):\n",
        "  doc = nlp(text)\n",
        "  if is_positive(term):\n",
        "    return \"\".join([make_past_tense(token) for token in doc])\n",
        "  return doc.text\n",
        "\n",
        "\n",
        "for word in (\"good\", \"bad\"):\n",
        "  print(make_dystopian(word, f\"{word.capitalize()} things exist.\"))"
      ]
    },
    {
      "attachments": {},
      "cell_type": "markdown",
      "metadata": {},
      "source": [
        "Build a quck demo using Gradio."
      ]
    },
    {
      "cell_type": "code",
      "execution_count": null,
      "metadata": {},
      "outputs": [],
      "source": [
        "import gradio as gr\n",
        "\n",
        "\n",
        "def get_dystopian_summary(term):\n",
        "  if term == \"\":\n",
        "    return term\n",
        "  try:\n",
        "    results = wikipedia.search(term, results=1)\n",
        "  except wikipedia.exceptions.DisambiguationError as e:\n",
        "    raise gr.Error(e.error)\n",
        "  if len(results) == 0:\n",
        "    raise gr.Error(\n",
        "      f'Could not find an article on the term \"{term}\". '\n",
        "      'Try searching for a different topic.'\n",
        "    )\n",
        "  summary = wikipedia.summary(results[0], sentences=1, auto_suggest=False, redirect=True)\n",
        "  return make_dystopian(term, summary)\n",
        "\n",
        "print(get_dystopian_summary(\"water\"))"
      ]
    },
    {
      "cell_type": "code",
      "execution_count": null,
      "metadata": {
        "id": "b2BR5q7Jig46"
      },
      "outputs": [],
      "source": [
        "def launch_demo(**kwargs):\n",
        "  title = \"Dystopedia\"\n",
        "  description = (\n",
        "    \"Make any Wikipedia topic dystopian. Inspired by [this Tweet](https://twitter.com/lbcyber/status/1115015586243862528). \"\n",
        "    \"Dystopedia uses [DistilBERT base uncased finetuned SST-2](https://huggingface.co/distilbert-base-uncased-finetuned-sst-2-english) \"\n",
        "    \"for sentiment analysis and is subject to its limitations and biases.\"\n",
        "  )\n",
        "  examples = [\"joy\", \"hope\", \"peace\", \"Earth\", \"water\", \"food\"]\n",
        "  gr.Interface(\n",
        "    fn=get_dystopian_summary,\n",
        "    inputs=gr.Textbox(label=\"term\", placeholder=\"Enter a term...\", max_lines=1),\n",
        "    outputs=gr.Textbox(label=\"description\"),\n",
        "    title=title,\n",
        "    description=description,\n",
        "    examples=examples,\n",
        "    cache_examples=True,\n",
        "    allow_flagging=\"never\",\n",
        "  ).launch(**kwargs)\n",
        "\n",
        "# If running this notebook remotely on binder, use launch_demo(share=True)\n",
        "launch_demo(show_error=True)"
      ]
    }
  ],
  "metadata": {
    "colab": {
      "provenance": []
    },
    "kernelspec": {
      "display_name": "Python 3",
      "language": "python",
      "name": "python3"
    },
    "language_info": {
      "codemirror_mode": {
        "name": "ipython",
        "version": 3
      },
      "file_extension": ".py",
      "mimetype": "text/x-python",
      "name": "python",
      "nbconvert_exporter": "python",
      "pygments_lexer": "ipython3",
      "version": "3.10.5"
    },
    "vscode": {
      "interpreter": {
        "hash": "93903dfbc08f2bbac219494ffe0467e13ba1fd7a179da8948cf12e16dd3f9c7e"
      }
    }
  },
  "nbformat": 4,
  "nbformat_minor": 0
}
