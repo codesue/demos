{
  "nbformat": 4,
  "nbformat_minor": 0,
  "metadata": {
    "colab": {
      "provenance": []
    },
    "kernelspec": {
      "name": "python3",
      "display_name": "Python 3"
    },
    "language_info": {
      "name": "python"
    }
  },
  "cells": [
    {
      "cell_type": "markdown",
      "source": [
        "# Dystopedia"
      ],
      "metadata": {
        "id": "d2OWxGMo1WZk"
      }
    },
    {
      "cell_type": "code",
      "source": [
        "import gradio as gr\n",
        "import lemminflect\n",
        "import spacy\n",
        "from transformers import pipeline\n",
        "import wikipedia"
      ],
      "metadata": {
        "id": "b2BR5q7Jig46"
      },
      "execution_count": null,
      "outputs": []
    },
    {
      "cell_type": "code",
      "source": [
        "nlp = spacy.load(\"en_core_web_lg\")"
      ],
      "metadata": {
        "id": "NcYpoJGmim6y"
      },
      "execution_count": null,
      "outputs": []
    },
    {
      "cell_type": "code",
      "source": [
        "sentiment_analyzer = pipeline(\n",
        "  \"sentiment-analysis\",\n",
        "  model=\"distilbert-base-uncased-finetuned-sst-2-english\",\n",
        "  revision=\"af0f99b\"\n",
        ")"
      ],
      "metadata": {
        "id": "XrfbAboWisnc"
      },
      "execution_count": null,
      "outputs": []
    },
    {
      "cell_type": "code",
      "source": [
        "def is_positive(text):\n",
        "  return sentiment_analyzer(text)[0][\"label\"] == \"POSITIVE\"\n",
        "\n",
        "def make_past_tense(token):\n",
        "  if token.tag_ in (\"VBP\", \"VBZ\"):\n",
        "    return f'{token._.inflect(\"VBD\")} '\n",
        "  return token.text_with_ws\n",
        "\n",
        "def make_dystopian(term, text):\n",
        "  doc = nlp(text)\n",
        "  if is_positive(term):\n",
        "    return \"\".join([make_past_tense(token) for token in doc])\n",
        "  return doc.text_with_ws\n",
        "\n",
        "def get_summary(term):\n",
        "  if not term:\n",
        "    return \"\"\n",
        "  try:\n",
        "    results = wikipedia.search(term)\n",
        "  except wikipedia.exceptions.DisambiguationError as e:\n",
        "    return e.error\n",
        "  if len(results) > 0:\n",
        "    summary = wikipedia.summary(results[0], sentences=1, auto_suggest=False, redirect=True)\n",
        "    return make_dystopian(term, summary)\n",
        "  return \"Could not find an article on the term provided.\""
      ],
      "metadata": {
        "id": "CgnVZHrpix8P"
      },
      "execution_count": null,
      "outputs": []
    },
    {
      "cell_type": "code",
      "execution_count": null,
      "metadata": {
        "id": "Np7T1nLTh4TA"
      },
      "outputs": [],
      "source": [
        "def launch_demo():\n",
        "  title = \"Dystopedia\"\n",
        "  description = (\n",
        "    \"Make any Wikipedia topic dystopian. Inspired by [this Tweet](https://twitter.com/lbcyber/status/1115015586243862528). \"\n",
        "    \"Dystopedia uses [DistilBERT base uncased finetuned SST-2](https://huggingface.co/distilbert-base-uncased-finetuned-sst-2-english) \"\n",
        "    \"for sentiment analysis and is subject to its limitations and biases.\"\n",
        "  )\n",
        "  examples = [\"joy\", \"hope\", \"peace\", \"Earth\", \"water\", \"food\"]\n",
        "  gr.Interface(\n",
        "    fn=get_summary,\n",
        "    inputs=gr.Textbox(label=\"term\", placeholder=\"Enter a term...\", max_lines=1),\n",
        "    outputs=gr.Textbox(label=\"description\"),\n",
        "    title=title,\n",
        "    description=description,\n",
        "    examples=examples,\n",
        "    cache_examples=True,\n",
        "    allow_flagging=\"never\",\n",
        "  ).launch()"
      ]
    },
    {
      "cell_type": "code",
      "source": [
        "launch_demo()"
      ],
      "metadata": {
        "id": "h7gwQKzDi1Jk"
      },
      "execution_count": null,
      "outputs": []
    }
  ]
}