{
 "cells": [
  {
   "cell_type": "markdown",
   "metadata": {
    "slideshow": {
     "slide_type": "slide"
    }
   },
   "source": [
    "# Using Custom Artifact Visualizations with InteractiveContext"
   ]
  },
  {
   "attachments": {},
   "cell_type": "markdown",
   "metadata": {},
   "source": [
    "**This notebook was used to create slides for a lightning talk, and isn't meant to be run. If you want to run it, follow the instructions in the [TFX Keras Component Tutorial](https://www.tensorflow.org/tfx/tutorials/tfx/components_keras#examplegen) to intsall `tfx`, restart the runtime, and import necessary packages.**"
   ]
  },
  {
   "cell_type": "markdown",
   "metadata": {
    "slideshow": {
     "slide_type": "slide"
    }
   },
   "source": [
    "## How InteractiveContext Visualizes Artifacts"
   ]
  },
  {
   "cell_type": "markdown",
   "metadata": {
    "slideshow": {
     "slide_type": "subslide"
    }
   },
   "source": [
    "You call `InteractiveContext.show(component.outputs['artifact_name'])`."
   ]
  },
  {
   "cell_type": "markdown",
   "metadata": {
    "slideshow": {
     "slide_type": "subslide"
    }
   },
   "source": [
    "`InteractiveContext` checks whether there's a visualization for the artifact in its visualization registry. If one is available, it calls the visualization's `display` method. \n",
    "   ```python\n",
    "   @notebook_utils.requires_ipython\n",
    "   def show(self, item: object) -> None:\n",
    "      \"\"\"Show the given object in an IPython notebook display.\"\"\"\n",
    "      from IPython.core.display import display  # pylint: disable=g-import-not-at-top\n",
    "      from IPython.core.display import HTML  # pylint: disable=g-import-not-at-top\n",
    "      if isinstance(item, types.Channel):\n",
    "        channel = item\n",
    "        artifacts = channel.get()\n",
    "        for artifact in artifacts:\n",
    "          artifact_heading = 'Artifact at %s' % html.escape(artifact.uri)\n",
    "          display(HTML('<b>%s</b><br/><br/>' % artifact_heading))\n",
    "          visualization = visualizations.get_registry().get_visualization(\n",
    "              artifact.type_name)\n",
    "          if visualization:\n",
    "            visualization.display(artifact)\n",
    "      else:\n",
    "        display(item)\n",
    "   ```"
   ]
  },
  {
   "cell_type": "markdown",
   "metadata": {
    "slideshow": {
     "slide_type": "subslide"
    }
   },
   "source": [
    "Default visualizations are defined in tfx.orchestration.experimental.interactive.standard_visualizations, and they're registerd in the `InteractiveContext`'s constructor."
   ]
  },
  {
   "attachments": {},
   "cell_type": "markdown",
   "metadata": {
    "slideshow": {
     "slide_type": "slide"
    }
   },
   "source": [
    "## How to Create Custom Visualizations\n",
    "\n",
    "1. Subclass the `ArtifactVisualization` abstract base class.\n",
    "2. Override the `ARTIFACT_TYPE` property with the type of artifact the visualization applies to.\n",
    "3. Override the `display` method to read relevant content from your artifact's URI and to render the content.\n",
    "4. Add the visualization to the `InteractiveContext`'s registry."
   ]
  },
  {
   "cell_type": "markdown",
   "metadata": {
    "slideshow": {
     "slide_type": "slide"
    }
   },
   "source": [
    "## Let's Walk Through an Example!\n",
    "\n",
    "We'll take a look at the first three training examples produced by running `ExampleGen`. We'll start with the method used in the [TFX Keras Component tutorial](https://www.tensorflow.org/tfx/tutorials/tfx/components_keras), then we'll refactor that code to create a custom visualization."
   ]
  },
  {
   "cell_type": "code",
   "execution_count": null,
   "metadata": {
    "id": "H4XIXjiCPwzQ",
    "slideshow": {
     "slide_type": "subslide"
    }
   },
   "outputs": [],
   "source": [
    "# Run the component\n",
    "example_gen = tfx.components.CsvExampleGen(input_base=_data_root)\n",
    "context.run(example_gen, enable_cache=True)\n",
    "\n",
    "# Get the URI of the output artifact representing the training examples, which is a directory\n",
    "train_uri = os.path.join(example_gen.outputs['examples'].get()[0].uri, 'Split-train')\n",
    "\n",
    "# Get the list of files in this directory (all compressed TFRecord files)\n",
    "tfrecord_filenames = [os.path.join(train_uri, name)\n",
    "                      for name in os.listdir(train_uri)]\n",
    "\n",
    "# Create a `TFRecordDataset` to read these files\n",
    "dataset = tf.data.TFRecordDataset(tfrecord_filenames, compression_type=\"GZIP\")\n",
    "\n",
    "# Iterate over the first 3 records and decode them.\n",
    "for tfrecord in dataset.take(3):\n",
    "  serialized_example = tfrecord.numpy()\n",
    "  example = tf.train.Example()\n",
    "  example.ParseFromString(serialized_example)\n",
    "  pp.pprint(example)"
   ]
  },
  {
   "cell_type": "code",
   "execution_count": null,
   "metadata": {
    "scrolled": false,
    "slideshow": {
     "slide_type": "slide"
    }
   },
   "outputs": [],
   "source": [
    "from tfx.orchestration.experimental.interactive import visualizations\n",
    "from tfx.types import artifact,  standard_artifacts\n",
    "\n",
    "class ExampleVisualization(visualizations.ArtifactVisualization):\n",
    "  ARTIFACT_TYPE = standard_artifacts.Examples\n",
    "\n",
    "  def display(self, artifact: artifact.Artifact, count=3):\n",
    "    from IPython.display import display, HTML\n",
    "    \n",
    "    # Get the URI of the output artifact representing the training examples, which is a directory\n",
    "    train_uri = os.path.join(artifact.uri, 'Split-train')\n",
    "\n",
    "    # Get the list of files in this directory (all compressed TFRecord files)\n",
    "    tfrecord_filenames = [os.path.join(train_uri, name)\n",
    "                          for name in os.listdir(train_uri)]\n",
    "\n",
    "    # Create a `TFRecordDataset` to read these files\n",
    "    dataset = tf.data.TFRecordDataset(tfrecord_filenames, compression_type='GZIP')\n",
    "\n",
    "    # Iterate over the first count records and decode them.\n",
    "    for tfrecord in dataset.take(count):\n",
    "      serialized_example = tfrecord.numpy()\n",
    "      example = tf.train.Example()\n",
    "      example.ParseFromString(serialized_example)\n",
    "      display(HTML(f'<pre>{example}</pre>'))\n",
    "\n",
    "visualizations.get_registry().register(ExampleVisualization)\n",
    "\n",
    "context.show(example_gen.outputs['examples'])"
   ]
  },
  {
   "cell_type": "markdown",
   "metadata": {
    "slideshow": {
     "slide_type": "slide"
    }
   },
   "source": [
    "We can use the same visualization we just created for transformed examples as well:"
   ]
  },
  {
   "cell_type": "code",
   "execution_count": null,
   "metadata": {
    "scrolled": false,
    "slideshow": {
     "slide_type": "subslide"
    }
   },
   "outputs": [],
   "source": [
    "context.show(transform.outputs['transformed_examples'])"
   ]
  },
  {
   "cell_type": "markdown",
   "metadata": {
    "id": "wdeKOEkv1Fe8",
    "slideshow": {
     "slide_type": "slide"
    }
   },
   "source": [
    "**Snippets from the TFX Keras Component tutorial and the InteractiveContext.show() definition are under Copyright 2021 by The TensorFlow Authors and licensed under the Apache License, Version 2.0.**"
   ]
  }
 ],
 "metadata": {
  "accelerator": "GPU",
  "celltoolbar": "Slideshow",
  "colab": {
   "collapsed_sections": [
    "wdeKOEkv1Fe8"
   ],
   "name": "components_keras.ipynb",
   "private_outputs": true,
   "provenance": [],
   "toc_visible": true
  },
  "kernelspec": {
   "display_name": "Python 3 (ipykernel)",
   "language": "python",
   "name": "python3"
  },
  "language_info": {
   "codemirror_mode": {
    "name": "ipython",
    "version": 3
   },
   "file_extension": ".py",
   "mimetype": "text/x-python",
   "name": "python",
   "nbconvert_exporter": "python",
   "pygments_lexer": "ipython3",
   "version": "3.9.7"
  },
  "vscode": {
   "interpreter": {
    "hash": "f03b0de39aa8eda4eb7c15fb3e2fda72ed49e02a630e903a875007027b5b9e64"
   }
  }
 },
 "nbformat": 4,
 "nbformat_minor": 1
}
